{
 "cells": [
  {
   "cell_type": "markdown",
   "metadata": {},
   "source": [
    "# Selección del clasificador\n",
    "\n",
    "Alfredo Rodríguez Magdalena ©"
   ]
  },
  {
   "cell_type": "code",
   "execution_count": 2,
   "metadata": {},
   "outputs": [],
   "source": [
    "import warnings\n",
    "warnings.filterwarnings(\"ignore\")\n",
    "\n",
    "import mat73\n",
    "import numpy as np\n",
    "import matplotlib.pyplot as plt\n",
    "import scipy.io\n",
    "import time\n",
    "import pandas as pd\n",
    "import json\n",
    "\n",
    "from sklearn.model_selection import train_test_split\n",
    "from sklearn.metrics import classification_report, accuracy_score\n",
    "from sklearn.linear_model import LogisticRegression\n",
    "from sklearn.naive_bayes import GaussianNB\n",
    "from sklearn.neighbors import KNeighborsClassifier\n",
    "from sklearn.tree import DecisionTreeClassifier, plot_tree, export_text\n",
    "from sklearn.ensemble import RandomForestClassifier, AdaBoostClassifier\n",
    "from sklearn.svm import SVC\n",
    "from sklearn.linear_model import SGDClassifier\n",
    "from sklearn.neural_network import MLPClassifier\n",
    "from sklearn.preprocessing import StandardScaler\n",
    "from xgboost import XGBClassifier"
   ]
  },
  {
   "cell_type": "markdown",
   "metadata": {},
   "source": [
    "## Importación de los datos de entrenamiento"
   ]
  },
  {
   "cell_type": "code",
   "execution_count": 3,
   "metadata": {},
   "outputs": [
    {
     "name": "stdout",
     "output_type": "stream",
     "text": [
      "Dimensiones de las etiquetas : (11953, 1)\n"
     ]
    }
   ],
   "source": [
    "data = mat73.loadmat(r'../datos/experimento3_sep.mat')\n",
    "labels = scipy.io.loadmat(r'../datos/labelsExperimento3.mat')\n",
    "Vr14 = scipy.io.loadmat(r'../datos/Vr14.mat')\n",
    "\n",
    "X = data[\"X\"]\n",
    "U = data[\"U\"]\n",
    "N = data[\"N\"]\n",
    "Y = labels['Y']\n",
    "Vr14 = Vr14['Vr14']\n",
    "\n",
    "tm = 5e-3 # Tiempo de muestreo\n",
    "\n",
    "print(f\"Dimensiones de las etiquetas : {Y.shape}\")"
   ]
  },
  {
   "cell_type": "code",
   "execution_count": 4,
   "metadata": {},
   "outputs": [],
   "source": [
    "scalerX = StandardScaler()\n",
    "Xnormalizado = scalerX.fit_transform(X)\n",
    "Unormalizado = U[:,0] / 1000 # Se expresa en m/s"
   ]
  },
  {
   "cell_type": "code",
   "execution_count": 5,
   "metadata": {},
   "outputs": [
    {
     "name": "stdout",
     "output_type": "stream",
     "text": [
      "Dimensiones de dataset 1 : (501, 11953) (características, muestras)\n"
     ]
    }
   ],
   "source": [
    "# DS1 -> Todos los datos sin tratar\n",
    "X1 = np.hstack((Xnormalizado, Unormalizado.reshape(-1,1)))\n",
    "\n",
    "print(f\"Dimensiones de dataset 1 : {X1.T.shape} (características, muestras)\")"
   ]
  },
  {
   "cell_type": "code",
   "execution_count": 6,
   "metadata": {},
   "outputs": [
    {
     "name": "stdout",
     "output_type": "stream",
     "text": [
      "Dimensiones de la matriz de cambio de base : (15, 500)\n",
      "Dimensiones de dataset 2 : (16, 11953) (características, muestras)\n"
     ]
    }
   ],
   "source": [
    "# DS2 -> Datos en la base de Vr14\n",
    "X2 = Vr14 @ X.T\n",
    "X2 = np.hstack((X2.T, U[:,0].reshape(-1,1)))\n",
    "\n",
    "print(f\"Dimensiones de la matriz de cambio de base : {Vr14.shape}\")\n",
    "print(f\"Dimensiones de dataset 2 : {X2.T.shape} (características, muestras)\")"
   ]
  },
  {
   "cell_type": "code",
   "execution_count": 7,
   "metadata": {},
   "outputs": [
    {
     "name": "stdout",
     "output_type": "stream",
     "text": [
      "Dimensiones de dataset 3 : (3, 11953) (características, muestras)\n"
     ]
    }
   ],
   "source": [
    "# DS3 -> Datos deducidos a partir de la etapa de extracción de características superficial\n",
    "X3 = data[\"F\"]\n",
    "X3 = np.hstack((X3, U[:,0].reshape(-1,1)))\n",
    "\n",
    "print(f\"Dimensiones de dataset 3 : {X3.T.shape} (características, muestras)\")"
   ]
  },
  {
   "cell_type": "code",
   "execution_count": 8,
   "metadata": {},
   "outputs": [],
   "source": [
    "datasets = {\"DS1\" : X1, \n",
    "            \"DS2\" : X2, \n",
    "            \"DS3\" : X3}"
   ]
  },
  {
   "cell_type": "markdown",
   "metadata": {},
   "source": [
    "## Entrenamiento de modelos"
   ]
  },
  {
   "cell_type": "code",
   "execution_count": 9,
   "metadata": {},
   "outputs": [],
   "source": [
    "semilla = 92\n",
    "np.random.seed(semilla) # Semilla para reproducibilidad"
   ]
  },
  {
   "cell_type": "code",
   "execution_count": 10,
   "metadata": {},
   "outputs": [],
   "source": [
    "# Diccionario con los algoritmos de clasificación\n",
    "classifiers = {\n",
    "    \"Logistic Regression\": LogisticRegression(max_iter=200),\n",
    "    \"Gaussian Naive Bayes\": GaussianNB(),\n",
    "    \"K-Nearest Neighbors\": KNeighborsClassifier(),\n",
    "    \"Decision Tree\": DecisionTreeClassifier(),\n",
    "    \"Random Forest\": RandomForestClassifier(),\n",
    "    \"SVM\": SVC(probability=True),\n",
    "    \"SGD Classifier\": SGDClassifier(),\n",
    "    \"AdaBoost\": AdaBoostClassifier(),\n",
    "    \"XGBoost\": XGBClassifier(use_label_encoder=False, eval_metric='mlogloss'),\n",
    "    \"ANN\": MLPClassifier(max_iter=300),\n",
    "}"
   ]
  },
  {
   "cell_type": "code",
   "execution_count": 11,
   "metadata": {},
   "outputs": [
    {
     "name": "stdout",
     "output_type": "stream",
     "text": [
      "(11953,)\n"
     ]
    }
   ],
   "source": [
    "print(np.ravel(Y).shape)"
   ]
  },
  {
   "cell_type": "code",
   "execution_count": 16,
   "metadata": {},
   "outputs": [
    {
     "name": "stdout",
     "output_type": "stream",
     "text": [
      "(3586, 16)\n"
     ]
    }
   ],
   "source": [
    "# Función para entrenar y evaluar cada algoritmo en un dataset\n",
    "results = []\n",
    "mejorModelo = None\n",
    "\n",
    "for dataset_name, XX in datasets.items(): \n",
    "    # Dividir los datos en entrenamiento y prueba\n",
    "    X_train, X_test, y_train, y_test = train_test_split(XX, np.ravel(Y), test_size=0.3, random_state=semilla)\n",
    "\n",
    "    for model_name, model in classifiers.items():\n",
    "        # Entrenar el modelo\n",
    "        model.fit(X_train, y_train)\n",
    "        \n",
    "        # Medir tiempo de predicción\n",
    "        start_time = time.time()\n",
    "        y_pred = model.predict(X_test)\n",
    "        prediction_time = time.time() - start_time  # Tiempo en segundos\n",
    "\n",
    "        if model_name == \"Decision Tree\" and dataset_name == \"DS2\":\n",
    "            print(X_test.shape)\n",
    "            # Crear una matriz con 10 muestras del conjunto de test y su predicción por el modelo\n",
    "            muestras_predicciones = np.hstack((X_test, y_pred.reshape(-1, 1)))\n",
    "\n",
    "            # Convertir la matriz a un DataFrame\n",
    "            muestras_predicciones_df = pd.DataFrame(muestras_predicciones, columns=[f\"Feature_{i}\" for i in range(X_test.shape[1])] + [\"Prediction\"])\n",
    "\n",
    "            # Exportar el DataFrame a un archivo CSV\n",
    "            muestras_predicciones_df.to_csv(\"muestras_predicciones.csv\", index=False)\n",
    "            \n",
    "            #tree_json = model.tree_.__getstate__()\n",
    "            #tree_json['nodes'] = tree_json['nodes'].tolist()\n",
    "            #tree_json['values'] = tree_json['values'].tolist()\n",
    "            #with open(f\"decision_tree_{dataset_name}.json\", \"w\") as f:\n",
    "            #    json.dump(tree_json, f)\n",
    "\n",
    "        # Calcular las métricas\n",
    "        report = classification_report(y_test, y_pred, output_dict=True, zero_division=0)\n",
    "        results.append({\n",
    "            \"Dataset\": dataset_name,\n",
    "            \"Model\": model_name,\n",
    "            \"Precision\": report[\"weighted avg\"][\"precision\"],\n",
    "            \"Recall\": report[\"weighted avg\"][\"recall\"],\n",
    "            \"F1-Score\": report[\"weighted avg\"][\"f1-score\"],\n",
    "            \"Prediction Time [ms]\": prediction_time * 10 # Más tarde se multiplica por 100 para obtener ms\n",
    "        })\n",
    "\n",
    "# Convertir resultados a un DataFrame\n",
    "results_df = pd.DataFrame(results)\n"
   ]
  },
  {
   "cell_type": "code",
   "execution_count": 17,
   "metadata": {},
   "outputs": [],
   "source": [
    "numeric_columns = results_df.select_dtypes(include=[np.number]).columns\n",
    "results_df[numeric_columns] = results_df[numeric_columns].map(lambda x: f\"{x*100:.2f}\")\n",
    "\n",
    "results_df.to_csv(\"resultadosClasificacion.csv\", index=False)"
   ]
  }
 ],
 "metadata": {
  "kernelspec": {
   "display_name": "SIARM",
   "language": "python",
   "name": "python3"
  },
  "language_info": {
   "codemirror_mode": {
    "name": "ipython",
    "version": 3
   },
   "file_extension": ".py",
   "mimetype": "text/x-python",
   "name": "python",
   "nbconvert_exporter": "python",
   "pygments_lexer": "ipython3",
   "version": "3.10.8"
  }
 },
 "nbformat": 4,
 "nbformat_minor": 2
}
