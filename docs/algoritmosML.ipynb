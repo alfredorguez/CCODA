{
 "cells": [
  {
   "cell_type": "markdown",
   "metadata": {},
   "source": [
    "# Selección del clasificador\n",
    "\n",
    "Alfredo Rodríguez Magdalena ©"
   ]
  },
  {
   "cell_type": "code",
   "execution_count": 22,
   "metadata": {},
   "outputs": [],
   "source": [
    "import mat73\n",
    "import numpy as np\n",
    "import matplotlib.pyplot as plt\n",
    "import scipy.io\n",
    "import time\n",
    "import pandas as pd\n",
    "\n",
    "from sklearn.model_selection import train_test_split\n",
    "from sklearn.metrics import classification_report\n",
    "from sklearn.linear_model import LogisticRegression\n",
    "from sklearn.naive_bayes import GaussianNB\n",
    "from sklearn.neighbors import KNeighborsClassifier\n",
    "from sklearn.tree import DecisionTreeClassifier\n",
    "from sklearn.ensemble import RandomForestClassifier, AdaBoostClassifier\n",
    "from sklearn.svm import SVC\n",
    "from sklearn.linear_model import SGDClassifier\n",
    "from sklearn.neural_network import MLPClassifier\n",
    "from sklearn.preprocessing import StandardScaler\n",
    "from xgboost import XGBClassifier"
   ]
  },
  {
   "cell_type": "markdown",
   "metadata": {},
   "source": [
    "## Importación de los datos de entrenamiento"
   ]
  },
  {
   "cell_type": "code",
   "execution_count": 6,
   "metadata": {},
   "outputs": [
    {
     "name": "stdout",
     "output_type": "stream",
     "text": [
      "Dimensiones de las etiquetas : (11953, 1)\n"
     ]
    }
   ],
   "source": [
    "data = mat73.loadmat(r'../datos/experimento3_sep.mat')\n",
    "labels = scipy.io.loadmat(r'../datos/labelsExperimento3.mat')\n",
    "Vr14 = scipy.io.loadmat(r'../datos/Vr14.mat')\n",
    "\n",
    "X = data[\"X\"]\n",
    "U = data[\"U\"]\n",
    "N = data[\"N\"]\n",
    "Y = labels['Y']\n",
    "Vr14 = Vr14['Vr14']\n",
    "\n",
    "tm = 5e-3 # Tiempo de muestreo\n",
    "\n",
    "print(f\"Dimensiones de las etiquetas : {Y.shape}\")"
   ]
  },
  {
   "cell_type": "code",
   "execution_count": 7,
   "metadata": {},
   "outputs": [],
   "source": [
    "scalerX = StandardScaler()\n",
    "Xnormalizado = scalerX.fit_transform(X)\n",
    "Unormalizado = U[:,0] / 1000 # Se expresa en m/s"
   ]
  },
  {
   "cell_type": "code",
   "execution_count": 8,
   "metadata": {},
   "outputs": [
    {
     "name": "stdout",
     "output_type": "stream",
     "text": [
      "Dimensiones de dataset 1 : (501, 11953) (características, muestras)\n"
     ]
    }
   ],
   "source": [
    "# DS1 -> Todos los datos sin tratar\n",
    "X1 = np.hstack((Xnormalizado, Unormalizado.reshape(-1,1)))\n",
    "\n",
    "print(f\"Dimensiones de dataset 1 : {X1.T.shape} (características, muestras)\")"
   ]
  },
  {
   "cell_type": "code",
   "execution_count": 9,
   "metadata": {},
   "outputs": [
    {
     "name": "stdout",
     "output_type": "stream",
     "text": [
      "Dimensiones de la matriz de cambio de base : (15, 500)\n",
      "Dimensiones de dataset 2 : (16, 11953) (características, muestras)\n"
     ]
    }
   ],
   "source": [
    "# DS2 -> Datos en la base de Vr14\n",
    "X2 = Vr14 @ X.T\n",
    "X2 = np.hstack((X2.T, U[:,0].reshape(-1,1)))\n",
    "\n",
    "print(f\"Dimensiones de la matriz de cambio de base : {Vr14.shape}\")\n",
    "print(f\"Dimensiones de dataset 2 : {X2.T.shape} (características, muestras)\")"
   ]
  },
  {
   "cell_type": "code",
   "execution_count": 10,
   "metadata": {},
   "outputs": [
    {
     "name": "stdout",
     "output_type": "stream",
     "text": [
      "Dimensiones de dataset 3 : (2, 11953) (características, muestras)\n"
     ]
    }
   ],
   "source": [
    "# DS3 -> Datos deducidos a partir de la etapa de extracción de características superficial\n",
    "X3 = data[\"F\"]\n",
    "\n",
    "print(f\"Dimensiones de dataset 3 : {X3.T.shape} (características, muestras)\")"
   ]
  },
  {
   "cell_type": "code",
   "execution_count": 11,
   "metadata": {},
   "outputs": [],
   "source": [
    "datasets = {\"DS1\" : X1, \n",
    "            \"DS2\" : X2, \n",
    "            \"DS3\" : X3}"
   ]
  },
  {
   "cell_type": "markdown",
   "metadata": {},
   "source": [
    "## Entrenamiento de modelos"
   ]
  },
  {
   "cell_type": "code",
   "execution_count": 12,
   "metadata": {},
   "outputs": [],
   "source": [
    "semilla = 92\n",
    "np.random.seed(semilla) # Semilla para reproducibilidad"
   ]
  },
  {
   "cell_type": "code",
   "execution_count": 13,
   "metadata": {},
   "outputs": [],
   "source": [
    "# Diccionario con los algoritmos de clasificación\n",
    "classifiers = {\n",
    "    \"Logistic Regression\": LogisticRegression(max_iter=200),\n",
    "    \"Gaussian Naive Bayes\": GaussianNB(),\n",
    "    \"K-Nearest Neighbors\": KNeighborsClassifier(),\n",
    "    \"Decision Tree\": DecisionTreeClassifier(),\n",
    "    \"Random Forest\": RandomForestClassifier(),\n",
    "    \"SVM\": SVC(probability=True),\n",
    "    \"SGD Classifier\": SGDClassifier(),\n",
    "    \"AdaBoost\": AdaBoostClassifier(),\n",
    "    \"XGBoost\": XGBClassifier(use_label_encoder=False, eval_metric='mlogloss'),\n",
    "    \"ANN\": MLPClassifier(max_iter=300),\n",
    "}"
   ]
  },
  {
   "cell_type": "code",
   "execution_count": 14,
   "metadata": {},
   "outputs": [
    {
     "name": "stdout",
     "output_type": "stream",
     "text": [
      "(11953,)\n"
     ]
    }
   ],
   "source": [
    "print(np.ravel(Y).shape)"
   ]
  },
  {
   "cell_type": "code",
   "execution_count": 23,
   "metadata": {},
   "outputs": [
    {
     "name": "stderr",
     "output_type": "stream",
     "text": [
      "/opt/anaconda3/envs/SIARM/lib/python3.10/site-packages/sklearn/linear_model/_logistic.py:444: ConvergenceWarning: lbfgs failed to converge (status=1):\n",
      "STOP: TOTAL NO. of ITERATIONS REACHED LIMIT.\n",
      "\n",
      "Increase the number of iterations (max_iter) or scale the data as shown in:\n",
      "    https://scikit-learn.org/stable/modules/preprocessing.html\n",
      "Please also refer to the documentation for alternative solver options:\n",
      "    https://scikit-learn.org/stable/modules/linear_model.html#logistic-regression\n",
      "  n_iter_i = _check_optimize_result(\n",
      "/opt/anaconda3/envs/SIARM/lib/python3.10/site-packages/xgboost/core.py:158: UserWarning: [17:45:53] WARNING: /Users/runner/work/xgboost/xgboost/src/learner.cc:740: \n",
      "Parameters: { \"use_label_encoder\" } are not used.\n",
      "\n",
      "  warnings.warn(smsg, UserWarning)\n",
      "/opt/anaconda3/envs/SIARM/lib/python3.10/site-packages/sklearn/linear_model/_logistic.py:444: ConvergenceWarning: lbfgs failed to converge (status=1):\n",
      "STOP: TOTAL NO. of ITERATIONS REACHED LIMIT.\n",
      "\n",
      "Increase the number of iterations (max_iter) or scale the data as shown in:\n",
      "    https://scikit-learn.org/stable/modules/preprocessing.html\n",
      "Please also refer to the documentation for alternative solver options:\n",
      "    https://scikit-learn.org/stable/modules/linear_model.html#logistic-regression\n",
      "  n_iter_i = _check_optimize_result(\n",
      "/opt/anaconda3/envs/SIARM/lib/python3.10/site-packages/xgboost/core.py:158: UserWarning: [17:46:12] WARNING: /Users/runner/work/xgboost/xgboost/src/learner.cc:740: \n",
      "Parameters: { \"use_label_encoder\" } are not used.\n",
      "\n",
      "  warnings.warn(smsg, UserWarning)\n",
      "/opt/anaconda3/envs/SIARM/lib/python3.10/site-packages/xgboost/core.py:158: UserWarning: [17:46:25] WARNING: /Users/runner/work/xgboost/xgboost/src/learner.cc:740: \n",
      "Parameters: { \"use_label_encoder\" } are not used.\n",
      "\n",
      "  warnings.warn(smsg, UserWarning)\n"
     ]
    }
   ],
   "source": [
    "# Función para entrenar y evaluar cada algoritmo en un dataset\n",
    "results = []\n",
    "\n",
    "for dataset_name, XX in datasets.items():\n",
    "    # Dividir los datos en entrenamiento y prueba\n",
    "    X_train, X_test, y_train, y_test = train_test_split(XX, np.ravel(Y), test_size=0.3, random_state=semilla)\n",
    "\n",
    "    for model_name, model in classifiers.items():\n",
    "        # Entrenar el modelo\n",
    "        model.fit(X_train, y_train)\n",
    "        \n",
    "        # Medir tiempo de predicción\n",
    "        start_time = time.time()\n",
    "        y_pred = model.predict(X_test)\n",
    "        prediction_time = time.time() - start_time  # Tiempo en segundos\n",
    "            \n",
    "        # Calcular las métricas\n",
    "        report = classification_report(y_test, y_pred, output_dict=True, zero_division=0)\n",
    "        results.append({\n",
    "            \"Dataset\": dataset_name,\n",
    "            \"Model\": model_name,\n",
    "            \"Precision\": report[\"weighted avg\"][\"precision\"],\n",
    "            \"Recall\": report[\"weighted avg\"][\"recall\"],\n",
    "            \"F1-Score\": report[\"weighted avg\"][\"f1-score\"],\n",
    "            \"Prediction Time [ms]\": prediction_time * 10 # Más tarde se multiplica por 100 para obtener ms\n",
    "        })\n",
    "\n",
    "# Convertir resultados a un DataFrame\n",
    "results_df = pd.DataFrame(results)\n"
   ]
  },
  {
   "cell_type": "code",
   "execution_count": 38,
   "metadata": {},
   "outputs": [],
   "source": [
    "numeric_columns = results_df.select_dtypes(include=[np.number]).columns\n",
    "results_df[numeric_columns] = results_df[numeric_columns].map(lambda x: f\"{x*100:.2f}\")\n",
    "\n",
    "results_df.to_csv(\"resultadosClasificacion.csv\", index=False)"
   ]
  }
 ],
 "metadata": {
  "kernelspec": {
   "display_name": "SIARM",
   "language": "python",
   "name": "python3"
  },
  "language_info": {
   "codemirror_mode": {
    "name": "ipython",
    "version": 3
   },
   "file_extension": ".py",
   "mimetype": "text/x-python",
   "name": "python",
   "nbconvert_exporter": "python",
   "pygments_lexer": "ipython3",
   "version": "3.10.15"
  }
 },
 "nbformat": 4,
 "nbformat_minor": 2
}
